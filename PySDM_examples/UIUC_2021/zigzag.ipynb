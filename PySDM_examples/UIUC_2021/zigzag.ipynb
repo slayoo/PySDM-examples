{
 "cells": [
  {
   "cell_type": "code",
   "execution_count": 1,
   "id": "12a0626c",
   "metadata": {},
   "outputs": [],
   "source": [
    "import numpy as np\n",
    "import inspect\n",
    "from scipy.interpolate import interp1d\n",
    "from IPython.display import display\n",
    "from ipywidgets import interact_manual, Layout, FloatProgress\n",
    "from open_atmos_jupyter_utils import show_plot\n",
    "from PySDM import Formulae\n",
    "from PySDM.physics import si\n",
    "from PySDM.initialisation.spectra import Lognormal\n",
    "\n",
    "from PySDM_examples.UIUC_2021 import make_particulator, run_simulation, \\\n",
    "    make_sampling_plot, make_temperature_plot, make_freezing_spec_plot, make_pdf_plot"
   ]
  },
  {
   "cell_type": "code",
   "execution_count": 2,
   "id": "d1aeadb4",
   "metadata": {},
   "outputs": [],
   "source": [
    "import matplotlib\n",
    "font = {'family' : 'monospace',\n",
    "        'weight' : 'light',\n",
    "        'size'   : 15\n",
    "       }\n",
    "matplotlib.rc('font', **font)  "
   ]
  },
  {
   "cell_type": "code",
   "execution_count": 3,
   "id": "59aec929",
   "metadata": {},
   "outputs": [],
   "source": [
    "constants = {\n",
    "    'BIGG_DT_MEDIAN': 36.5,\n",
    "    'NIEMAND_A': -0.517,\n",
    "    'NIEMAND_B': 8.934,\n",
    "    'ABIFM_M': 28.13797, #54.48\n",
    "    'ABIFM_C': -2.92414 # -10.67\n",
    "}"
   ]
  },
  {
   "cell_type": "code",
   "execution_count": 4,
   "id": "7f46a04c",
   "metadata": {
    "scrolled": true
   },
   "outputs": [
    {
     "data": {
      "application/vnd.jupyter.widget-view+json": {
       "model_id": "0b6c9ce8ef7d4099a42ba09504a93435",
       "version_major": 2,
       "version_minor": 0
      },
      "text/plain": [
       "FloatProgress(value=0.0, description='%')"
      ]
     },
     "metadata": {},
     "output_type": "display_data"
    },
    {
     "data": {
      "application/vnd.jupyter.widget-view+json": {
       "model_id": "a03af4c945744340a1312d4afeec3d8a",
       "version_major": 2,
       "version_minor": 0
      },
      "text/plain": [
       "interactive(children=(Dropdown(description='Shima_T_fz', options=('Niemand_et_al_2012', 'Bigg_1953'), value='N…"
      ]
     },
     "metadata": {},
     "output_type": "display_data"
    }
   ],
   "source": [
    "SEP = ';'\n",
    "    \n",
    "progbar = FloatProgress(value=0, min=0, max=100, description='%')\n",
    "display(progbar)\n",
    "\n",
    "@interact_manual(\n",
    "    Shima_T_fz=[('Niemand_et_al_2012'), ('Bigg_1953')],\n",
    "    interpolation=['linear', 'quadratic', 'cubic'],\n",
    "    times_s = f'000{SEP} 500{SEP} 750{SEP} 4500{SEP} 5000',\n",
    "    temps_K = f'255{SEP} 235{SEP} 245{SEP} 245{SEP} 225',\n",
    "    log2_n_sd=(4, 14), \n",
    "    n_steps=(20, 100),\n",
    "    ensemble_n=(1, 9),\n",
    "    drop_v_um3=(1, 5),\n",
    "    ln10_drop_n=(15, 20),\n",
    "    ln10_vol_m3=(4, 8),\n",
    "    m_mode_um2=((.5, 4.5)),\n",
    "    ln_s_geom=(0, 3.)\n",
    ")\n",
    "def interface(*, \n",
    "              Shima_T_fz,\n",
    "              times_s, temps_K, interpolation, \n",
    "              log2_n_sd, n_steps, ensemble_n,\n",
    "              drop_v_um3,\n",
    "              ln10_drop_n,\n",
    "              ln10_vol_m3,\n",
    "              m_mode_um2,\n",
    "              ln_s_geom\n",
    "             ):\n",
    "    output_widget = globals()[inspect.currentframe().f_code.co_name].widget.children[-1]\n",
    "    output_widget.layout = Layout(visibility = 'hidden')\n",
    "    progbar.value = 0\n",
    "    \n",
    "    temperature_profile = interp1d(\n",
    "        x=np.asarray(times_s.split(SEP), dtype=float), \n",
    "        y=np.asarray(temps_K.split(SEP), dtype=float),\n",
    "        kind=interpolation\n",
    "    )\n",
    "    assert temperature_profile.x[0] == 0\n",
    "\n",
    "    A_spec = Lognormal(norm_factor=1, m_mode=m_mode_um2*si.um**2, s_geom=np.exp(ln_s_geom))\n",
    "    \n",
    "    params = {\n",
    "        'droplet_volume': drop_v_um3 * si.um**3,\n",
    "        'total_particle_number': 10**ln10_drop_n,\n",
    "        'volume': 10**ln10_vol_m3\n",
    "    }\n",
    "    \n",
    "    output = []\n",
    "    for singular in (True, False):\n",
    "        for seed in np.arange(ensemble_n): \n",
    "            particulator = make_particulator(\n",
    "                constants=constants,\n",
    "                n_sd=2**log2_n_sd, \n",
    "                dt=temperature_profile.x[-1]/n_steps,\n",
    "                initial_temperature = temperature_profile(0),\n",
    "                singular=singular,\n",
    "                seed=seed,\n",
    "                shima_T_fz=Shima_T_fz,\n",
    "                ABIFM_spec=A_spec,\n",
    "                **params\n",
    "            )\n",
    "            output.append({\n",
    "                **run_simulation(particulator, temperature_profile, n_steps),\n",
    "                'singular': singular\n",
    "            })\n",
    "            progbar.value += 100/2/ensemble_n\n",
    "    make_sampling_plot(output)\n",
    "    show_plot('fig0.pdf')\n",
    "    make_temperature_plot(output)\n",
    "    show_plot('fig1.pdf')\n",
    "    \n",
    "    formulae = Formulae(\n",
    "        freezing_temperature_spectrum=Shima_T_fz,\n",
    "        constants=constants\n",
    "    )\n",
    "\n",
    "    make_freezing_spec_plot(\n",
    "        output, \n",
    "        formulae, \n",
    "        surf_spec=A_spec,\n",
    "        **params\n",
    "    )\n",
    "    if len(temperature_profile.x) == 2 and interpolation == 'linear':\n",
    "        cooling_rate = np.diff(temperature_profile.y)[0] / np.diff(temperature_profile.x)[0] / (si.K/si.min)\n",
    "    else:\n",
    "        cooling_rate = 'variable'\n",
    "    show_plot(f'fig2-c={cooling_rate}_K_per_min-ln_s_geom={ln_s_geom}.pdf')\n",
    "    make_pdf_plot(\n",
    "        A_spec,\n",
    "        formulae.freezing_temperature_spectrum.pdf,\n",
    "        A_range = (0 * si.um ** 2, 5 * si.um ** 2),\n",
    "        T_range = (min(temperature_profile.y), max(temperature_profile.y))\n",
    "     )\n",
    "    show_plot('fig3.pdf')\n",
    "    output_widget.layout = Layout(visibility = 'visible')\n",
    "    \n",
    "button = interface.widget.children[-2]\n",
    "button.description = 'rerun and replot'\n",
    "button.click()"
   ]
  },
  {
   "cell_type": "code",
   "execution_count": null,
   "id": "8dff9902",
   "metadata": {},
   "outputs": [],
   "source": []
  },
  {
   "cell_type": "code",
   "execution_count": null,
   "id": "64cf293e",
   "metadata": {},
   "outputs": [],
   "source": []
  },
  {
   "cell_type": "code",
   "execution_count": null,
   "id": "378e2a10",
   "metadata": {},
   "outputs": [],
   "source": []
  }
 ],
 "metadata": {
  "kernelspec": {
   "display_name": "Python 3 (ipykernel)",
   "language": "python",
   "name": "python3"
  },
  "language_info": {
   "codemirror_mode": {
    "name": "ipython",
    "version": 3
   },
   "file_extension": ".py",
   "mimetype": "text/x-python",
   "name": "python",
   "nbconvert_exporter": "python",
   "pygments_lexer": "ipython3",
   "version": "3.8.9"
  }
 },
 "nbformat": 4,
 "nbformat_minor": 5
}
