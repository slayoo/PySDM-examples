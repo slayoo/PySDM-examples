{
 "cells": [
  {
   "cell_type": "code",
   "execution_count": 1,
   "id": "6d39ff74",
   "metadata": {},
   "outputs": [],
   "source": [
    "import sys\n",
    "if 'google.colab' in sys.modules:\n",
    "    !pip --quiet install open-atmos-jupyter-utils\n",
    "    from open_atmos_jupyter_utils import pip_install_on_colab\n",
    "    pip_install_on_colab('PySDM-examples')"
   ]
  },
  {
   "cell_type": "code",
   "execution_count": 2,
   "id": "b19713b4",
   "metadata": {},
   "outputs": [],
   "source": [
    "import string\n",
    "import os\n",
    "import numpy as np\n",
    "from PySDM_examples.Arabas_et_al_2015 import Settings, SpinUp\n",
    "from PySDM_examples.Szumowski_et_al_1998 import Simulation, Storage\n",
    "from PySDM.exporters import NetCDFExporter, VTKExporter\n",
    "from PySDM_examples.utils import ProgBarController\n",
    "from open_atmos_jupyter_utils import show_plot\n",
    "import PySDM.products as PySDM_products\n",
    "from PySDM.physics import si\n",
    "from PySDM import Formulae\n",
    "from PySDM.initialisation.spectra import Lognormal\n",
    "from scipy.io import netcdf_file\n",
    "from scipy.ndimage import uniform_filter1d\n",
    "import matplotlib\n",
    "from matplotlib import pyplot"
   ]
  },
  {
   "cell_type": "code",
   "execution_count": 3,
   "id": "b3ac5007",
   "metadata": {},
   "outputs": [],
   "source": [
    "formulae = Formulae(\n",
    "    freezing_temperature_spectrum='Niemand_et_al_2012',\n",
    "    heterogeneous_ice_nucleation_rate='ABIFM',\n",
    "    constants={\n",
    "        'NIEMAND_A': -0.517,\n",
    "        'NIEMAND_B': 8.934,\n",
    "        'ABIFM_M': 28.13797,\n",
    "        'ABIFM_C': -2.92414,\n",
    "    }\n",
    ")\n",
    "\n",
    "lognormal_log10_A_um2 = formulae.trivia.sphere_surface(diameter=.74*si.um) / si.um**2\n",
    "lognormal_ln_sgm_g = np.log(2.55)\n",
    "\n",
    "wall_time_unit = 'ms'\n",
    "# TODO #599: this is not specific concentration!!!\n",
    "spec_conc_unit = '1/cc'\n",
    "spec_conc_ice_unit = '1/l'\n",
    "cool_rate_unit = 'K/min'\n",
    "\n",
    "aero_mult = 3\n",
    "inp_frac = .0015 / aero_mult"
   ]
  },
  {
   "cell_type": "code",
   "execution_count": 4,
   "id": "8ac0108f",
   "metadata": {},
   "outputs": [],
   "source": [
    "runs = (\n",
    "    {'settings': {'rhod_w_max': 3. * si.m/si.s*si.kg/si.m**3, 'freezing_singular': False}},\n",
    "    {'settings': {'rhod_w_max': 3. * si.m/si.s*si.kg/si.m**3, 'freezing_singular': True}},\n",
    "    {'settings': {'rhod_w_max': 1. * si.m/si.s*si.kg/si.m**3, 'freezing_singular': False}},\n",
    "    {'settings': {'rhod_w_max': 1. * si.m/si.s*si.kg/si.m**3, 'freezing_singular': True}},\n",
    "    {'settings': {'rhod_w_max': 1/3. * si.m/si.s*si.kg/si.m**3, 'freezing_singular': False}},\n",
    "    {'settings': {'rhod_w_max': 1/3. * si.m/si.s*si.kg/si.m**3, 'freezing_singular': True}},\n",
    ")"
   ]
  },
  {
   "cell_type": "code",
   "execution_count": 5,
   "id": "6a3c69a9",
   "metadata": {},
   "outputs": [],
   "source": [
    "products = (\n",
    "    PySDM_products.PeakSupersaturation(name='S_max', unit='%'),\n",
    "    PySDM_products.DynamicWallTime('Freezing', name='Freezing_wall_time', unit=wall_time_unit),\n",
    "    # TODO #599: add SVP version of the products\n",
    "    PySDM_products.ParticleConcentration(radius_range=(-np.inf, -1*si.um), name='n_i', unit=spec_conc_ice_unit),\n",
    "    PySDM_products.ParticleConcentration(radius_range=(0, 1*si.um), name='n_a', unit=spec_conc_unit),\n",
    "    PySDM_products.ParticleConcentration(radius_range=(1*si.um, np.inf), name='n_c', unit=spec_conc_unit),\n",
    "    PySDM_products.EffectiveRadius(name='r_eff', unit='um'),\n",
    "    PySDM_products.CoolingRate(unit=cool_rate_unit),\n",
    "    PySDM_products.AmbientRelativeHumidity(name='RH_env', var='RH'),\n",
    "    PySDM_products.AmbientTemperature(name='T_env', var='T'),\n",
    "    PySDM_products.SuperDropletCountPerGridbox(),\n",
    "    PySDM_products.FlowVelocityComponent(component=0, name='ux'),\n",
    "    PySDM_products.FlowVelocityComponent(component=1, name='uz'),\n",
    "    PySDM_products.MaxCourantNumber(),\n",
    "    PySDM_products.IceNucleiConcentration(name='n_inp', unit=spec_conc_ice_unit),\n",
    "    PySDM_products.FrozenParticleConcentration(name='n_frozen_aerosols', unit=spec_conc_ice_unit,\n",
    "                                               count_activated=False, count_unactivated=True),\n",
    "    PySDM_products.FrozenParticleConcentration(name='n_frozen_droplets', unit=spec_conc_ice_unit,\n",
    "                                               count_activated=True, count_unactivated=False)\n",
    ")\n",
    "to_base_unit_multipliers = {product.name: product.unit_magnitude_in_base_units for product in products}"
   ]
  },
  {
   "cell_type": "code",
   "execution_count": 7,
   "id": "944f6247",
   "metadata": {},
   "outputs": [
    {
     "data": {
      "application/vnd.jupyter.widget-view+json": {
       "model_id": "f1fc25c4a2ee4deb963114ddfa0e35da",
       "version_major": 2,
       "version_minor": 0
      },
      "text/plain": [
       "FloatProgress(value=0.0, description='run 1/6', max=1.0)"
      ]
     },
     "metadata": {},
     "output_type": "display_data"
    },
    {
     "data": {
      "application/vnd.jupyter.widget-view+json": {
       "model_id": "78d5b9fab5094588b74bf65670082712",
       "version_major": 2,
       "version_minor": 0
      },
      "text/plain": [
       "FloatProgress(value=0.0, description='netCDF', max=1.0)"
      ]
     },
     "metadata": {},
     "output_type": "display_data"
    },
    {
     "data": {
      "application/vnd.jupyter.widget-view+json": {
       "model_id": "fe32329119604e6d8f1ae20f350adca2",
       "version_major": 2,
       "version_minor": 0
      },
      "text/plain": [
       "FloatProgress(value=0.0, description='run 2/6', max=1.0)"
      ]
     },
     "metadata": {},
     "output_type": "display_data"
    },
    {
     "data": {
      "application/vnd.jupyter.widget-view+json": {
       "model_id": "9e4d2acb2f5948af9deab5faa8c50ff5",
       "version_major": 2,
       "version_minor": 0
      },
      "text/plain": [
       "FloatProgress(value=0.0, description='netCDF', max=1.0)"
      ]
     },
     "metadata": {},
     "output_type": "display_data"
    },
    {
     "data": {
      "application/vnd.jupyter.widget-view+json": {
       "model_id": "37e1458f7a574e2ca1c3869e1a821176",
       "version_major": 2,
       "version_minor": 0
      },
      "text/plain": [
       "FloatProgress(value=0.0, description='run 3/6', max=1.0)"
      ]
     },
     "metadata": {},
     "output_type": "display_data"
    },
    {
     "data": {
      "application/vnd.jupyter.widget-view+json": {
       "model_id": "713e29a36f2c40f5b65610b3d1321b46",
       "version_major": 2,
       "version_minor": 0
      },
      "text/plain": [
       "FloatProgress(value=0.0, description='netCDF', max=1.0)"
      ]
     },
     "metadata": {},
     "output_type": "display_data"
    },
    {
     "data": {
      "application/vnd.jupyter.widget-view+json": {
       "model_id": "b63dca1e45fa42df946186bfa304f5ea",
       "version_major": 2,
       "version_minor": 0
      },
      "text/plain": [
       "FloatProgress(value=0.0, description='run 4/6', max=1.0)"
      ]
     },
     "metadata": {},
     "output_type": "display_data"
    },
    {
     "data": {
      "application/vnd.jupyter.widget-view+json": {
       "model_id": "6459e1e05328408a9e3e4a1fbd7c8372",
       "version_major": 2,
       "version_minor": 0
      },
      "text/plain": [
       "FloatProgress(value=0.0, description='netCDF', max=1.0)"
      ]
     },
     "metadata": {},
     "output_type": "display_data"
    },
    {
     "data": {
      "application/vnd.jupyter.widget-view+json": {
       "model_id": "99ec4f365a454b4a888a70e83137ceaa",
       "version_major": 2,
       "version_minor": 0
      },
      "text/plain": [
       "FloatProgress(value=0.0, description='run 5/6', max=1.0)"
      ]
     },
     "metadata": {},
     "output_type": "display_data"
    },
    {
     "data": {
      "application/vnd.jupyter.widget-view+json": {
       "model_id": "07701b465f6544ccb56809fa200ea8d5",
       "version_major": 2,
       "version_minor": 0
      },
      "text/plain": [
       "FloatProgress(value=0.0, description='netCDF', max=1.0)"
      ]
     },
     "metadata": {},
     "output_type": "display_data"
    },
    {
     "data": {
      "application/vnd.jupyter.widget-view+json": {
       "model_id": "c82279366087426cb5c363073f56df92",
       "version_major": 2,
       "version_minor": 0
      },
      "text/plain": [
       "FloatProgress(value=0.0, description='run 6/6', max=1.0)"
      ]
     },
     "metadata": {},
     "output_type": "display_data"
    },
    {
     "data": {
      "application/vnd.jupyter.widget-view+json": {
       "model_id": "424dfd8ebd11417aa673e43efb2ffaee",
       "version_major": 2,
       "version_minor": 0
      },
      "text/plain": [
       "FloatProgress(value=0.0, description='netCDF', max=1.0)"
      ]
     },
     "metadata": {},
     "output_type": "display_data"
    }
   ],
   "source": [
    "for i, run in enumerate(runs):\n",
    "    folder = f\"output/rhod_w_max={run['settings']['rhod_w_max']}_singular={run['settings']['freezing_singular']}\"\n",
    "    os.makedirs(folder, exist_ok=True)\n",
    "    \n",
    "    run['ncfile'] = f'{folder}/out.nc'\n",
    "    \n",
    "    settings = Settings(formulae)\n",
    "    settings.dt = 2.5 * si.s\n",
    "    settings.output_interval = settings.dt * 12\n",
    "    settings.simulation_time = 3000 * si.second if 'CI' not in os.environ else settings.output_interval\n",
    "    settings.spin_up_time = 600 * si.second\n",
    "    settings.size = (1500, 500)\n",
    "    settings.n_sd_per_gridbox = 64\n",
    "    settings.grid = (60, 20)\n",
    "    settings.th_std0 -= 33.3 * si.kelvins\n",
    "    settings.qv0 -= 6.66 * si.grams / si.kilogram\n",
    "    \n",
    "    settings.processes['coalescence'] = False\n",
    "    settings.processes['freezing'] = True\n",
    "    settings.freezing_inp_spec = Lognormal(\n",
    "        norm_factor=1,\n",
    "        m_mode=10**(lognormal_log10_A_um2) * si.um**2,\n",
    "        s_geom=np.exp(lognormal_ln_sgm_g)\n",
    "    )\n",
    "    settings.freezing_inp_frac = inp_frac\n",
    "    \n",
    "    settings.mode_1.norm_factor *= aero_mult\n",
    "    settings.mode_2.norm_factor *= aero_mult\n",
    "    settings.spectrum_per_mass_of_dry_air.norm_factor *= aero_mult\n",
    "    \n",
    "    for key, value in run['settings'].items():        \n",
    "        assert hasattr(settings, key)\n",
    "        setattr(settings, key, value)\n",
    "\n",
    "    storage = Storage()\n",
    "    simulation = Simulation(settings, storage, SpinUp=SpinUp)\n",
    "    simulation.reinit(products)\n",
    "\n",
    "    vtk_exporter = VTKExporter(path=folder)    \n",
    "    simulation.run(ProgBarController(f\"run {i+1}/{len(runs)}\"), vtk_exporter=vtk_exporter)\n",
    "    vtk_exporter.write_pvd()\n",
    "\n",
    "    ncdf_exporter = NetCDFExporter(storage, settings, simulation, run['ncfile'])\n",
    "    ncdf_exporter.run(ProgBarController('netCDF'))"
   ]
  },
  {
   "cell_type": "code",
   "execution_count": null,
   "id": "241f48c4",
   "metadata": {},
   "outputs": [],
   "source": [
    "def label(settings):\n",
    "    lbl = str({k.replace('condensation_', ''):\n",
    "               f\"{v:.1e}\" if isinstance(v, float) else\n",
    "               str(v).zfill(2) if isinstance(v, int) else\n",
    "               v for k, v in settings.items()})\n",
    "    return lbl\\\n",
    "        .replace('{', '')\\\n",
    "        .replace('}', '')\\\n",
    "        .replace(\"'\", '')\\\n",
    "        .replace('rhod_w_max:', '$w_{max}\\\\approx$')\\\n",
    "        .replace('.0e+00', r' $\\,\\,\\,\\,$ m/s')\\\n",
    "        .replace('3.3e-01', '1/3 m/s')\\\n",
    "        .replace('freezing_singular: True', r'singular$\\,\\,\\,$')\\\n",
    "        .replace('freezing_singular: False', 'time-dep')"
   ]
  },
  {
   "cell_type": "code",
   "execution_count": null,
   "id": "bba6ffb0",
   "metadata": {
    "scrolled": false
   },
   "outputs": [],
   "source": [
    "matplotlib.rcParams[\"figure.figsize\"] = (9, 12)\n",
    "colors = (\n",
    "    '#5940ff', '#5980ff', '#59c0ff', '#59e0ff', \n",
    "    '#dd0000', '#dd6666', '#dd9999', '#ddcccc', \n",
    "    '#777777', '#aaaaaa'\n",
    ")\n",
    "n_last_steps = 500\n",
    "bins = 20\n",
    "bin_range = {\n",
    "    'cooling rate': (-.1, 0),\n",
    "#     'S_max': (.02, 1.01),\n",
    "#     'r_eff': (1.5, 6.5),\n",
    "    'n_c': (100, 500),\n",
    "    'n_inp': (5, 405),\n",
    "    'n_i': None,\n",
    "    'n_frozen_aerosols': (5, 105),\n",
    "    'n_frozen_droplets': (5, 105)\n",
    "#    'n_a': (0, 128*(aero_mult)+100),\n",
    "#     'T_env': (220, 275),\n",
    "#     'RH_env': (0, 1)\n",
    "}\n",
    "window = 3\n",
    "\n",
    "rows = 3\n",
    "columns = 2\n",
    "\n",
    "fig, axs = pyplot.subplots(rows, columns, sharey=False, tight_layout=True)\n",
    "for plot_i, var in enumerate(bin_range.keys()):\n",
    "    if len(axs.shape) == 2:\n",
    "        ax = axs[plot_i//columns][plot_i%columns]\n",
    "    else:\n",
    "        ax = axs[plot_i]\n",
    "    for i, run in enumerate(runs):\n",
    "        nc = netcdf_file(run['ncfile'], mode='r', mmap=False)\n",
    "        n_spinup = nc.n_spin_up // nc.steps_per_output_interval  # TODO #599: unused!\n",
    "        data = nc.variables[var]\n",
    "        timesteps = slice(-(n_last_steps+1), None)\n",
    "\n",
    "        style = {\n",
    "            'color': colors[i], \n",
    "            'lw': 4 if run['settings']['freezing_singular'] else 2,\n",
    "            'ls': '--' if not run['settings']['freezing_singular'] else '-'\n",
    "        }\n",
    "        \n",
    "        if var != 'n_i':\n",
    "            wall_time = np.nanmean(nc.variables['Freezing_wall_time'][timesteps] / nc.steps_per_output_interval)\n",
    "            wall_time = np.nan if not np.isfinite(wall_time) else int(100 * wall_time) / 100\n",
    "            print(f\"(CPU: {wall_time:.2f}{wall_time_unit})\")      \n",
    "\n",
    "            y, x, _ = ax.hist(data[timesteps, :, :].flatten(), \n",
    "                                  bins=bins, range=bin_range[var], histtype='step', \n",
    "                                  color=colors[i], lw=0)\n",
    "            y /= n_last_steps\n",
    "            filt_x = x[:-1] if window % 2 == 0 else (x[1:] + x[:-1])/2\n",
    "            ax.plot(filt_x, uniform_filter1d(y, size=window), **style,\n",
    "                            label=f\"{label(run['settings'])}\"\n",
    "                       )\n",
    "            ax.set_yscale('log')\n",
    "            #ax.set_ylim(.01 * np.prod(nc.grid), .1 * np.prod(nc.grid))\n",
    "            ax.set_ylim(.1, 50)\n",
    "            ax.set_ylabel('occurence count ' + f'({window}-bin moving average)')\n",
    "            binwidth = (bin_range[var][1]-bin_range[var][0])/bins\n",
    "            ax.set_xlim(bin_range[var])\n",
    "            if var == 'S_max':\n",
    "                ax.set_xlabel(f'peak supersaturation [%] ({binwidth}% binning)')\n",
    "            elif var == 'r_eff':\n",
    "                ax.set_xlabel(f'cloud droplet effective radius [μm] ({binwidth} binning)')\n",
    "            elif var == 'n_i':\n",
    "                ax.set_xlabel(f'ice concentration [{spec_conc_ice_unit}] ({binwidth} binning)')\n",
    "            elif var == 'n_inp':\n",
    "                print(np.amin(data[:]), np.amax(data[:]))\n",
    "                ax.set_xlabel(f'INP (frozen or unfrozen) conc. [{spec_conc_ice_unit}] ({binwidth} binning)')\n",
    "            elif var == 'n_a':\n",
    "                ax.set_xlabel(f'aerosol  concentration [{spec_conc_unit}] ({binwidth} binning)')\n",
    "            elif var == 'n_frozen_aerosols':\n",
    "                ax.set_xlabel(f'frozen aerosol concentration [{spec_conc_ice_unit}] ({binwidth} binning)')\n",
    "            elif var == 'n_frozen_droplets':\n",
    "                ax.set_xlabel(f'frozen droplet concentration [{spec_conc_ice_unit}] ({binwidth} binning)')\n",
    "            elif var == 'n_c':\n",
    "                ax.set_xlabel(f'cloud droplet concentration [{spec_conc_unit}] ({binwidth} binning)')\n",
    "            elif var == 'T_env':\n",
    "                ax.set_xlabel(f'ambient temperature [K] ({binwidth} binning)')\n",
    "            elif var == 'RH_env':\n",
    "                ax.set_xlabel(f'ambient RH [1] ({binwidth} binning)')\n",
    "            elif var == 'cooling rate':\n",
    "                ax.set_xlabel(f'cooling rate [{cool_rate_unit}] ({binwidth} binning)')\n",
    "            else:\n",
    "                assert False\n",
    "        else:\n",
    "            n_ice = np.mean(np.mean(data[timesteps,:,:], axis=1), axis=1) \n",
    "            n_ice *= to_base_unit_multipliers['n_i']\n",
    "\n",
    "            n_cld = np.mean(np.mean(nc.variables['n_c'][timesteps,:,:], axis=1), axis=1) \n",
    "            n_cld *= to_base_unit_multipliers['n_c']\n",
    "            \n",
    "            ax.plot(\n",
    "                nc.variables['T'][timesteps],\n",
    "                n_ice / n_cld,\n",
    "                **style\n",
    "            )\n",
    "            ax.plot(nc.variables['T'][timesteps][[0,-1]], [inp_frac, inp_frac], color='black')\n",
    "            ax.set_yscale('log')\n",
    "            ax.set_ylim(1e-5, 1e-3)\n",
    "            ax.set_ylabel('ice-to-cloud concentration ratio')\n",
    "            ax.set_xlabel('time [s]')\n",
    "    ax.grid(which='minor')\n",
    "    ax.grid(which='major')\n",
    "    if plot_i == 0:\n",
    "        ax.legend()\n",
    "    ax.text(0, 1.03,\n",
    "            '('+string.ascii_lowercase[plot_i]+')',\n",
    "            transform=ax.transAxes, size=15, weight='bold')\n",
    "show_plot(\"figures.pdf\")"
   ]
  },
  {
   "cell_type": "code",
   "execution_count": null,
   "id": "37694bfb",
   "metadata": {},
   "outputs": [],
   "source": []
  },
  {
   "cell_type": "code",
   "execution_count": null,
   "id": "3ba32978",
   "metadata": {},
   "outputs": [],
   "source": []
  }
 ],
 "metadata": {
  "kernelspec": {
   "display_name": "Python 3 (ipykernel)",
   "language": "python",
   "name": "python3"
  },
  "language_info": {
   "codemirror_mode": {
    "name": "ipython",
    "version": 3
   },
   "file_extension": ".py",
   "mimetype": "text/x-python",
   "name": "python",
   "nbconvert_exporter": "python",
   "pygments_lexer": "ipython3",
   "version": "3.10.6"
  }
 },
 "nbformat": 4,
 "nbformat_minor": 5
}
